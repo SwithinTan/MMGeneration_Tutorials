{
 "cells": [
  {
   "cell_type": "markdown",
   "id": "d26e2cd2-2b04-4b7b-9aed-f615e94d166c",
   "metadata": {},
   "source": [
    "# MMGeneration 趣味Demo 生成两张人脸的中间脸\n",
    "\n",
    "> 作者：[同济子豪兄](https://space.bilibili.com/1900783)、杨逸飞 2022-4-10"
   ]
  },
  {
   "cell_type": "markdown",
   "id": "6adf0fa3-24ae-4145-adf7-0d3a0c09bbbe",
   "metadata": {},
   "source": [
    "## 进入MMGeneration主目录¶"
   ]
  },
  {
   "cell_type": "code",
   "execution_count": 1,
   "id": "b840a387-f43f-44fe-99cc-00e50e7e1b44",
   "metadata": {},
   "outputs": [
    {
     "data": {
      "text/plain": [
       "['.git',\n",
       " '.dev_scripts',\n",
       " '.github',\n",
       " '.gitignore',\n",
       " '.pre-commit-config.yaml',\n",
       " '.pylintrc',\n",
       " '.readthedocs.yml',\n",
       " 'CITATION.cff',\n",
       " 'LICENSE',\n",
       " 'LICENSES.md',\n",
       " 'MANIFEST.in',\n",
       " 'README.md',\n",
       " 'README_zh-CN.md',\n",
       " 'apps',\n",
       " 'configs',\n",
       " 'demo',\n",
       " 'docker',\n",
       " 'docs',\n",
       " 'mmgen',\n",
       " 'model-index.yml',\n",
       " 'requirements.txt',\n",
       " 'requirements',\n",
       " 'setup.cfg',\n",
       " 'setup.py',\n",
       " 'tests',\n",
       " 'tools',\n",
       " 'mmgen.egg-info',\n",
       " 'outputs',\n",
       " 'data',\n",
       " 'checkpoints',\n",
       " 'work_dirs']"
      ]
     },
     "execution_count": 1,
     "metadata": {},
     "output_type": "execute_result"
    }
   ],
   "source": [
    "import os\n",
    "os.chdir('mmgeneration')\n",
    "os.listdir()"
   ]
  },
  {
   "cell_type": "markdown",
   "id": "9f3a91be-e12a-4ec4-adf9-abfbf0c80e5c",
   "metadata": {},
   "source": [
    "## 中间脸"
   ]
  },
  {
   "cell_type": "code",
   "execution_count": 9,
   "id": "73ef236f-22d3-4aa4-8504-7c03f3dfbdfc",
   "metadata": {},
   "outputs": [
    {
     "name": "stdout",
     "output_type": "stream",
     "text": [
      "set random seed to 2021\n",
      "load checkpoint from local path: checkpoints/stylegan2_c2_ffhq_256_b4x8_20210407_160709-7890ae1f.pth\n",
      "2022-04-11 19:58:48,029 - mmgen - INFO - Sampling model: ema\n",
      "2022-04-11 19:58:48,029 - mmgen - INFO - Switch to evaluation style mode: single\n",
      "Traceback (most recent call last):\n",
      "  File \"apps/stylegan_projector.py\", line 287, in <module>\n",
      "    main()\n",
      "  File \"apps/stylegan_projector.py\", line 191, in main\n",
      "    imgs = torch.stack(imgs, 0).to(device)\n",
      "RuntimeError: stack expects each tensor to be equal size, but got [3, 338, 256] at entry 0 and [3, 337, 256] at entry 1\n"
     ]
    }
   ],
   "source": [
    "!python apps/stylegan_projector.py \\\n",
    "        configs/styleganv2/stylegan2_c2_ffhq_256_b4x8_800k.py \\\n",
    "        checkpoints/stylegan2_c2_ffhq_256_b4x8_20210407_160709-7890ae1f.pth \\\n",
    "        data/wyf-head.png \\\n",
    "        data/zzh-head.png \\\n",
    "        --total-iters 1000 \\\n",
    "        --results-path outputs/stylgan_projector/"
   ]
  },
  {
   "cell_type": "code",
   "execution_count": null,
   "id": "924e5391-e4dc-4433-871d-96b0e19123d9",
   "metadata": {},
   "outputs": [],
   "source": []
  }
 ],
 "metadata": {
  "kernelspec": {
   "display_name": "Python 3 (ipykernel)",
   "language": "python",
   "name": "python3"
  },
  "language_info": {
   "codemirror_mode": {
    "name": "ipython",
    "version": 3
   },
   "file_extension": ".py",
   "mimetype": "text/x-python",
   "name": "python",
   "nbconvert_exporter": "python",
   "pygments_lexer": "ipython3",
   "version": "3.7.10"
  }
 },
 "nbformat": 4,
 "nbformat_minor": 5
}
