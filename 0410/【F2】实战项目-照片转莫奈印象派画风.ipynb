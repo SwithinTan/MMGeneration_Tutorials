{
 "cells": [
  {
   "cell_type": "markdown",
   "metadata": {},
   "source": [
    "# 训练 CycleGAN 实现照片转莫奈印象派画风"
   ]
  },
  {
   "cell_type": "markdown",
   "metadata": {},
   "source": [
    "> 作者：[同济子豪兄](https://space.bilibili.com/1900783)、杨逸飞 2022-4-10"
   ]
  },
  {
   "cell_type": "markdown",
   "metadata": {},
   "source": [
    "## 进入MMGeneration主目录"
   ]
  },
  {
   "cell_type": "code",
   "execution_count": null,
   "metadata": {},
   "outputs": [],
   "source": [
    "import os\n",
    "os.chdir('mmgeneration')\n",
    "os.listdir()"
   ]
  },
  {
   "cell_type": "markdown",
   "metadata": {
    "id": "mxHbkAZdMkRJ"
   },
   "source": [
    "## 下载 monet2photo 数据集\n",
    "\n",
    "下载地址：https://people.eecs.berkeley.edu/~taesung_park/CycleGAN/datasets/"
   ]
  },
  {
   "cell_type": "code",
   "execution_count": null,
   "metadata": {
    "colab": {
     "base_uri": "https://localhost:8080/"
    },
    "id": "1plpXtIFMkil",
    "outputId": "79ebf474-9168-4805-c9e3-1e9b576437cc"
   },
   "outputs": [],
   "source": [
    "# 下载 monet2photo 图像数据集压缩包\n",
    "!wget https://people.eecs.berkeley.edu/~taesung_park/CycleGAN/datasets/monet2photo.zip -O data/monet2photo.zip"
   ]
  },
  {
   "cell_type": "code",
   "execution_count": null,
   "metadata": {
    "colab": {
     "base_uri": "https://localhost:8080/"
    },
    "id": "XlP-sAkwMo8F",
    "outputId": "acb0ae7d-db59-4153-bde3-64f15524d2f2",
    "tags": []
   },
   "outputs": [],
   "source": [
    "# 解压至 data/monet2photo 目录\n",
    "!unzip -o data/monet2photo.zip -d data/monet2photo/"
   ]
  },
  {
   "cell_type": "markdown",
   "metadata": {
    "id": "BqWND96D7WZv"
   },
   "source": [
    "### 配置 config 文件"
   ]
  },
  {
   "cell_type": "code",
   "execution_count": null,
   "metadata": {},
   "outputs": [],
   "source": []
  },
  {
   "cell_type": "markdown",
   "metadata": {},
   "source": [
    "## 在自己的数据集上训练模型(运行半小时左右)\n",
    "\n",
    "训练过程中，在 work_dirs/experiments/experiments_name目录下\n",
    "\n",
    "training_samples保存了训练过程中达到不同迭代次数时的训练效果\n",
    "\n",
    "ckpt/experiments_name保存了训练过程中达到不同迭代次数时的模型权重文件"
   ]
  },
  {
   "cell_type": "code",
   "execution_count": null,
   "metadata": {
    "colab": {
     "base_uri": "https://localhost:8080/"
    },
    "id": "HvAJi6YK7b3G",
    "outputId": "f5fd7115-8371-431a-9aa7-3fb22b72461d"
   },
   "outputs": [],
   "source": [
    "!bash tools/dist_train.sh configs/styleganv2/stylegan2_c2_ffhq_256_b4x8_800k_strawberry.py 1 --work-dir work_dirs/experiments/stylegan2_c2_ffhq_256_b4x8_800k"
   ]
  },
  {
   "cell_type": "code",
   "execution_count": null,
   "metadata": {},
   "outputs": [],
   "source": []
  }
 ],
 "metadata": {
  "accelerator": "GPU",
  "colab": {
   "collapsed_sections": [],
   "name": "大西瓜生成器.ipynb",
   "provenance": []
  },
  "kernelspec": {
   "display_name": "Python 3 (ipykernel)",
   "language": "python",
   "name": "python3"
  },
  "language_info": {
   "codemirror_mode": {
    "name": "ipython",
    "version": 3
   },
   "file_extension": ".py",
   "mimetype": "text/x-python",
   "name": "python",
   "nbconvert_exporter": "python",
   "pygments_lexer": "ipython3",
   "version": "3.7.10"
  }
 },
 "nbformat": 4,
 "nbformat_minor": 4
}
